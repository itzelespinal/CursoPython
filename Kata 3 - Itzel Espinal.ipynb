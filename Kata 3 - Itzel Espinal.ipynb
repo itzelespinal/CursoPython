{
 "cells": [
  {
   "cell_type": "markdown",
   "metadata": {},
   "source": [
    "Imprima una advertencia si un asteroide se acerca a la Tierra demasiado rápido. La velocidad del asteroide varía dependiendo de lo cerca que esté del sol, y cualquier velocidad superior a 25 kilómetros por segundo (km/s) merece una advertencia. Un asteroide se acerca, y viaja a una velocidad de 49 km/s."
   ]
  },
  {
   "cell_type": "code",
   "execution_count": null,
   "metadata": {},
   "outputs": [],
   "source": [
    "asteroide = 49\n",
    "if asteroide > 25:\n",
    "    print('¡Cuidado un asteroide se acerca a velocidad peligrosa a la Tierra!')\n",
    "else:\n",
    "    print('¡Lindo día!')"
   ]
  },
  {
   "cell_type": "markdown",
   "metadata": {},
   "source": [
    "Si un asteroide entra en la atmósfera de la Tierra a una velocidad mayor o igual a 20 km/s, a veces produce un rayo de luz que se puede ver desde la Tierra. Alerta a las personas de todo el mundo que deben buscar un asteroide en el cielo. ¡Hay uno que se dirige a la tierra ahora a una velocidad de 19 km/s!"
   ]
  },
  {
   "cell_type": "code",
   "execution_count": null,
   "metadata": {},
   "outputs": [],
   "source": [
    "asteroide = 19\n",
    "if asteroide >= 20:\n",
    "    print('¡Mira, hay una luz mágica en el cielo!')\n",
    "else:\n",
    "    print('¡Lindo día!')"
   ]
  },
  {
   "cell_type": "markdown",
   "metadata": {},
   "source": [
    "Los asteroides de menos de 25 metros en su dimensión más grande probablemente se quemarán a medida que entren en la atmósfera de la Tierra.\n",
    "\n",
    "Si una pieza de un asteroide que es más grande que 25 metros pero más pequeña que 1000 metros golpeara la Tierra, causaría mucho daño.\n",
    "\n",
    "La velocidad del asteroide varía en función de lo cerca que esté del sol, y cualquier velocidad superior a 25 kilómetros por segundo (km/s) merece una advertencia.\n",
    "Si un asteroide entra en la atmósfera de la Tierra a una velocidad mayor o igual a 20 km/s, a veces produce un rayo de luz que se puede ver desde la Tierra.\n",
    "Emita la advertencia o información correcta a la gente de la Tierra, según la velocidad y el tamaño de un asteroide."
   ]
  },
  {
   "cell_type": "code",
   "execution_count": null,
   "metadata": {},
   "outputs": [],
   "source": [
    "velocidad_asteroide = 25\n",
    "tamano_asteroide = 40\n",
    "if velocidad_asteroide > 25 and tamano_asteroide > 25:\n",
    "    print('¡Cuidado un asteroide se acerca a velocidad peligrosa a la Tierra!')\n",
    "elif velocidad_asteroide >= 20:\n",
    "    print('¡Mira, hay una luz mágica en el cielo!')\n",
    "elif tamano_asteroide < 25:\n",
    "    print('¡Lindo día!')\n",
    "else:\n",
    "    print('¡Lindo día!')"
   ]
  }
 ],
 "metadata": {
  "interpreter": {
   "hash": "965767c749e570b57d17b0ea75426a350990ca8bf2e56c1a1b1591642c753aec"
  },
  "kernelspec": {
   "display_name": "Python 3.10.2 64-bit",
   "language": "python",
   "name": "python3"
  },
  "language_info": {
   "name": "python",
   "version": "3.10.2"
  },
  "orig_nbformat": 4
 },
 "nbformat": 4,
 "nbformat_minor": 2
}
