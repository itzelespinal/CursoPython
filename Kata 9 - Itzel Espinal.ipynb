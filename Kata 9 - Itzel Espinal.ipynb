{
 "cells": [
  {
   "cell_type": "markdown",
   "metadata": {},
   "source": [
    "Ejercicio 1: Trabajar con argumentos en funciones"
   ]
  },
  {
   "cell_type": "code",
   "execution_count": null,
   "metadata": {},
   "outputs": [],
   "source": [
    "# Función para leer 3 tanques de combustible y muestre el promedio\n",
    "def generate_report(main, external, hydrogen):\n",
    "    total_average = (main + external + hydrogen) / 3\n",
    "    return f\"\"\"Reporte de combustible:\n",
    "    Promedio total: {total_average}%\n",
    "    Tanque principal: {main}%\n",
    "    Tanque externo: {external}%\n",
    "    Tanque de hidrogeno: {hydrogen}% \n",
    "    \"\"\"\n",
    "\n",
    "# Llamamos a la función que genera el reporte print(funcion(tanque1, tanque2, tanque3))\n",
    "print(generate_report(80, 70, 85))\n",
    "\n",
    "# Función promedio\n",
    "def average(values):\n",
    "    total = sum(values)\n",
    "    number_of_items = len(values)\n",
    "    return total / number_of_items\n",
    "average([80, 85, 81]) \n",
    "\n",
    "# Actualiza la función\n",
    "def generate_report(main, external, hydrogen):\n",
    "    return f\"\"\"Reporte de combustible:\n",
    "    Promedio total: {average([main, external, hydrogen])}%\n",
    "    Tanque principal: {main}%\n",
    "    Tanque externo: {external}%\n",
    "    Tanque de hidrogeno: {hydrogen}% \n",
    "    \"\"\"\n",
    "print(generate_report(88, 76, 70))"
   ]
  },
  {
   "cell_type": "markdown",
   "metadata": {},
   "source": [
    "Ejercicio 2: Trabajo con argumentos de palabra clave"
   ]
  },
  {
   "cell_type": "code",
   "execution_count": null,
   "metadata": {},
   "outputs": [],
   "source": [
    "# Función con un informe preciso de la misión. Considera hora de prelanzamiento, tiempo de vuelo, destino, tanque externo y tanque interno\n",
    "def mission_report(pre_launch, flight, destination, external, main):\n",
    "    return f\"\"\"\n",
    "    Mision a: {destination}\n",
    "    Tiempo total de viaje: {pre_launch + flight} minutes\n",
    "    Combustible restante: {external + main} gallons\n",
    "    \"\"\"\n",
    "print(mission_report(14, 51, \"Moon\", 200000, 300000))\n",
    "\n",
    "# Escribe tu nueva función de reporte considerando lo anterior\n",
    "def mission_report(destination, *minutes, **fuel_reservoirs):\n",
    "    return f\"\"\"\n",
    "    Mision a: {destination}\n",
    "    Tiempo total de viaje: {sum(minutes)} minutes\n",
    "    Combustible restante: {sum(fuel_reservoirs.values())}\n",
    "    \"\"\"\n",
    "print(mission_report(\"Moon\", 10, 15, 51, main=300000, external=200000))\n",
    "\n",
    "# Escribe tu nueva función\n",
    "def mission_report(destination, *minutes, **fuel_reservoirs):\n",
    "    main_report = f\"\"\"\n",
    "    Mision a: {destination}\n",
    "    Tiempo total de viaje: {sum(minutes)} minutes\n",
    "    Combustible restante: {sum(fuel_reservoirs.values())}\n",
    "    \"\"\"\n",
    "    for tank_name, gallons in fuel_reservoirs.items():\n",
    "        main_report += f\"{tank_name} Tanque --> {gallons} galones restantes\\n\"\n",
    "    return main_report\n",
    "print(mission_report(\"Moon\", 8, 11, 55, main=300000, external=200000))"
   ]
  }
 ],
 "metadata": {
  "interpreter": {
   "hash": "965767c749e570b57d17b0ea75426a350990ca8bf2e56c1a1b1591642c753aec"
  },
  "kernelspec": {
   "display_name": "Python 3.10.2 64-bit",
   "language": "python",
   "name": "python3"
  },
  "language_info": {
   "name": "python",
   "version": "3.10.2"
  },
  "orig_nbformat": 4
 },
 "nbformat": 4,
 "nbformat_minor": 2
}
