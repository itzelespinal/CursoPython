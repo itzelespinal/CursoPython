{
 "cells": [
  {
   "cell_type": "markdown",
   "metadata": {},
   "source": [
    "Ejercicio 1 - Utilizar operadores aritméticos"
   ]
  },
  {
   "cell_type": "code",
   "execution_count": null,
   "metadata": {},
   "outputs": [],
   "source": [
    "# Crear variables para almacenar las dos distancias\n",
    "first_planet = 149597870\n",
    "second_planet = 778547200\n",
    "\n",
    "distance = second_planet - first_planet\n",
    "print(distance)\n",
    "\n",
    "distance_mi = distance * 0.621\n",
    "print(distance_mi)"
   ]
  },
  {
   "cell_type": "markdown",
   "metadata": {},
   "source": [
    "Ejercicio 2 - Convierte cadenas en números y usa valores absolutos"
   ]
  },
  {
   "cell_type": "code",
   "execution_count": null,
   "metadata": {},
   "outputs": [],
   "source": [
    "# Almacenar las entradas del usuario\n",
    "first_planet = input('Introduzca la distancia del sol para el primer planeta en KM')\n",
    "second_planet = input('Introduzca la distancia desde el sol para el segundo planeta en KM')\n",
    "\n",
    "# Convierte las cadenas de ambos planetas a números enteros\n",
    "first_planet = int(first_planet)\n",
    "second_planet = int(second_planet)\n",
    "\n",
    "# Realizar el cálculo y determinar el valor absoluto\n",
    "distance = second_planet - first_planet\n",
    "print(distance)\n",
    "\n",
    "# Convertir de KM a Millas\n",
    "distance_mi = distance * 0.621\n",
    "print(abs(distance_mi))"
   ]
  }
 ],
 "metadata": {
  "interpreter": {
   "hash": "965767c749e570b57d17b0ea75426a350990ca8bf2e56c1a1b1591642c753aec"
  },
  "kernelspec": {
   "display_name": "Python 3.10.2 64-bit",
   "language": "python",
   "name": "python3"
  },
  "language_info": {
   "name": "python",
   "version": "3.10.2"
  },
  "orig_nbformat": 4
 },
 "nbformat": 4,
 "nbformat_minor": 2
}
